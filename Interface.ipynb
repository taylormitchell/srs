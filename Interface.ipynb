{
 "cells": [
  {
   "cell_type": "code",
   "execution_count": 259,
   "metadata": {},
   "outputs": [],
   "source": [
    "%load_ext autoreload\n",
    "%autoreload 2\n",
    "import sqlite3\n",
    "import pandas as pd\n",
    "import numpy as np\n",
    "from datetime import datetime\n",
    "from srs import *"
   ]
  },
  {
   "cell_type": "code",
   "execution_count": 349,
   "metadata": {},
   "outputs": [],
   "source": [
    "!rm srs.db\n",
    "!python3 create_srs.py\n",
    "!python3 fill_srs.py"
   ]
  },
  {
   "cell_type": "code",
   "execution_count": 350,
   "metadata": {},
   "outputs": [],
   "source": [
    "srs.close()\n",
    "srs = SRS()"
   ]
  },
  {
   "cell_type": "code",
   "execution_count": 334,
   "metadata": {},
   "outputs": [
    {
     "data": {
      "text/plain": [
       "datetime.datetime(2020, 2, 18, 23, 19, 11)"
      ]
     },
     "execution_count": 334,
     "metadata": {},
     "output_type": "execute_result"
    }
   ],
   "source": [
    "datetime.fromtimestamp(1582085951)"
   ]
  },
  {
   "cell_type": "code",
   "execution_count": 372,
   "metadata": {},
   "outputs": [
    {
     "data": {
      "text/plain": [
       "datetime.datetime(2020, 2, 19, 23, 24, 25)"
      ]
     },
     "execution_count": 372,
     "metadata": {},
     "output_type": "execute_result"
    }
   ],
   "source": [
    "datetime.fromtimestamp(1582172665)"
   ]
  },
  {
   "cell_type": "code",
   "execution_count": 377,
   "metadata": {},
   "outputs": [
    {
     "name": "stdout",
     "output_type": "stream",
     "text": [
      "CONCEPTS\n"
     ]
    },
    {
     "data": {
      "text/html": [
       "<div>\n",
       "<style scoped>\n",
       "    .dataframe tbody tr th:only-of-type {\n",
       "        vertical-align: middle;\n",
       "    }\n",
       "\n",
       "    .dataframe tbody tr th {\n",
       "        vertical-align: top;\n",
       "    }\n",
       "\n",
       "    .dataframe thead th {\n",
       "        text-align: right;\n",
       "    }\n",
       "</style>\n",
       "<table border=\"1\" class=\"dataframe\">\n",
       "  <thead>\n",
       "    <tr style=\"text-align: right;\">\n",
       "      <th></th>\n",
       "      <th>cid</th>\n",
       "      <th>created_date</th>\n",
       "      <th>interval</th>\n",
       "      <th>last_review</th>\n",
       "      <th>due_date</th>\n",
       "    </tr>\n",
       "  </thead>\n",
       "  <tbody>\n",
       "    <tr>\n",
       "      <th>0</th>\n",
       "      <td>1</td>\n",
       "      <td>1582086139</td>\n",
       "      <td>7</td>\n",
       "      <td>1.582086e+09</td>\n",
       "      <td>1582691229</td>\n",
       "    </tr>\n",
       "    <tr>\n",
       "      <th>1</th>\n",
       "      <td>2</td>\n",
       "      <td>1582086139</td>\n",
       "      <td>0</td>\n",
       "      <td>1.582086e+09</td>\n",
       "      <td>1582086270</td>\n",
       "    </tr>\n",
       "  </tbody>\n",
       "</table>\n",
       "</div>"
      ],
      "text/plain": [
       "   cid  created_date  interval   last_review    due_date\n",
       "0    1    1582086139         7  1.582086e+09  1582691229\n",
       "1    2    1582086139         0  1.582086e+09  1582086270"
      ]
     },
     "metadata": {},
     "output_type": "display_data"
    },
    {
     "name": "stdout",
     "output_type": "stream",
     "text": [
      "QUESTIONS\n"
     ]
    },
    {
     "data": {
      "text/html": [
       "<div>\n",
       "<style scoped>\n",
       "    .dataframe tbody tr th:only-of-type {\n",
       "        vertical-align: middle;\n",
       "    }\n",
       "\n",
       "    .dataframe tbody tr th {\n",
       "        vertical-align: top;\n",
       "    }\n",
       "\n",
       "    .dataframe thead th {\n",
       "        text-align: right;\n",
       "    }\n",
       "</style>\n",
       "<table border=\"1\" class=\"dataframe\">\n",
       "  <thead>\n",
       "    <tr style=\"text-align: right;\">\n",
       "      <th></th>\n",
       "      <th>qid</th>\n",
       "      <th>created_date</th>\n",
       "      <th>cid</th>\n",
       "      <th>front</th>\n",
       "      <th>back</th>\n",
       "      <th>num_reviews</th>\n",
       "      <th>last_review</th>\n",
       "    </tr>\n",
       "  </thead>\n",
       "  <tbody>\n",
       "    <tr>\n",
       "      <th>0</th>\n",
       "      <td>1</td>\n",
       "      <td>1582086139</td>\n",
       "      <td>1</td>\n",
       "      <td>the front</td>\n",
       "      <td>the back</td>\n",
       "      <td>1</td>\n",
       "      <td>1.582086e+09</td>\n",
       "    </tr>\n",
       "    <tr>\n",
       "      <th>1</th>\n",
       "      <td>2</td>\n",
       "      <td>1582086139</td>\n",
       "      <td>1</td>\n",
       "      <td>the dearre</td>\n",
       "      <td>the baawfeaweck</td>\n",
       "      <td>3</td>\n",
       "      <td>1.582086e+09</td>\n",
       "    </tr>\n",
       "    <tr>\n",
       "      <th>2</th>\n",
       "      <td>3</td>\n",
       "      <td>1582086139</td>\n",
       "      <td>1</td>\n",
       "      <td>the</td>\n",
       "      <td>the b</td>\n",
       "      <td>0</td>\n",
       "      <td>0.000000e+00</td>\n",
       "    </tr>\n",
       "    <tr>\n",
       "      <th>3</th>\n",
       "      <td>4</td>\n",
       "      <td>1582086139</td>\n",
       "      <td>2</td>\n",
       "      <td>capital of france?</td>\n",
       "      <td>paris</td>\n",
       "      <td>1</td>\n",
       "      <td>1.582086e+09</td>\n",
       "    </tr>\n",
       "    <tr>\n",
       "      <th>4</th>\n",
       "      <td>5</td>\n",
       "      <td>1582086139</td>\n",
       "      <td>2</td>\n",
       "      <td>paris is the capital of what?</td>\n",
       "      <td>france</td>\n",
       "      <td>0</td>\n",
       "      <td>0.000000e+00</td>\n",
       "    </tr>\n",
       "    <tr>\n",
       "      <th>5</th>\n",
       "      <td>6</td>\n",
       "      <td>1582086139</td>\n",
       "      <td>2</td>\n",
       "      <td>france's capital is?</td>\n",
       "      <td>paris</td>\n",
       "      <td>1</td>\n",
       "      <td>1.582086e+09</td>\n",
       "    </tr>\n",
       "  </tbody>\n",
       "</table>\n",
       "</div>"
      ],
      "text/plain": [
       "   qid  created_date  cid                          front             back  \\\n",
       "0    1    1582086139    1                      the front         the back   \n",
       "1    2    1582086139    1                     the dearre  the baawfeaweck   \n",
       "2    3    1582086139    1                           the             the b   \n",
       "3    4    1582086139    2             capital of france?            paris   \n",
       "4    5    1582086139    2  paris is the capital of what?           france   \n",
       "5    6    1582086139    2           france's capital is?            paris   \n",
       "\n",
       "   num_reviews   last_review  \n",
       "0            1  1.582086e+09  \n",
       "1            3  1.582086e+09  \n",
       "2            0  0.000000e+00  \n",
       "3            1  1.582086e+09  \n",
       "4            0  0.000000e+00  \n",
       "5            1  1.582086e+09  "
      ]
     },
     "metadata": {},
     "output_type": "display_data"
    },
    {
     "name": "stdout",
     "output_type": "stream",
     "text": [
      "REVIEWS\n"
     ]
    },
    {
     "data": {
      "text/html": [
       "<div>\n",
       "<style scoped>\n",
       "    .dataframe tbody tr th:only-of-type {\n",
       "        vertical-align: middle;\n",
       "    }\n",
       "\n",
       "    .dataframe tbody tr th {\n",
       "        vertical-align: top;\n",
       "    }\n",
       "\n",
       "    .dataframe thead th {\n",
       "        text-align: right;\n",
       "    }\n",
       "</style>\n",
       "<table border=\"1\" class=\"dataframe\">\n",
       "  <thead>\n",
       "    <tr style=\"text-align: right;\">\n",
       "      <th></th>\n",
       "      <th>rid</th>\n",
       "      <th>qid</th>\n",
       "      <th>cid</th>\n",
       "      <th>start_time</th>\n",
       "      <th>end_time</th>\n",
       "      <th>elapsed_time</th>\n",
       "      <th>passed</th>\n",
       "    </tr>\n",
       "  </thead>\n",
       "  <tbody>\n",
       "    <tr>\n",
       "      <th>0</th>\n",
       "      <td>1</td>\n",
       "      <td>1</td>\n",
       "      <td>1</td>\n",
       "      <td>1.582086e+09</td>\n",
       "      <td>1.582086e+09</td>\n",
       "      <td>0.601173</td>\n",
       "      <td>0</td>\n",
       "    </tr>\n",
       "    <tr>\n",
       "      <th>1</th>\n",
       "      <td>2</td>\n",
       "      <td>6</td>\n",
       "      <td>2</td>\n",
       "      <td>1.582086e+09</td>\n",
       "      <td>1.582086e+09</td>\n",
       "      <td>0.213420</td>\n",
       "      <td>1</td>\n",
       "    </tr>\n",
       "    <tr>\n",
       "      <th>2</th>\n",
       "      <td>3</td>\n",
       "      <td>2</td>\n",
       "      <td>1</td>\n",
       "      <td>1.582086e+09</td>\n",
       "      <td>1.582086e+09</td>\n",
       "      <td>9.440872</td>\n",
       "      <td>1</td>\n",
       "    </tr>\n",
       "    <tr>\n",
       "      <th>3</th>\n",
       "      <td>4</td>\n",
       "      <td>4</td>\n",
       "      <td>2</td>\n",
       "      <td>1.582086e+09</td>\n",
       "      <td>1.582086e+09</td>\n",
       "      <td>1.125155</td>\n",
       "      <td>0</td>\n",
       "    </tr>\n",
       "    <tr>\n",
       "      <th>4</th>\n",
       "      <td>5</td>\n",
       "      <td>2</td>\n",
       "      <td>1</td>\n",
       "      <td>1.582086e+09</td>\n",
       "      <td>1.582086e+09</td>\n",
       "      <td>9.440872</td>\n",
       "      <td>1</td>\n",
       "    </tr>\n",
       "    <tr>\n",
       "      <th>5</th>\n",
       "      <td>6</td>\n",
       "      <td>2</td>\n",
       "      <td>1</td>\n",
       "      <td>1.582086e+09</td>\n",
       "      <td>1.582086e+09</td>\n",
       "      <td>9.440872</td>\n",
       "      <td>1</td>\n",
       "    </tr>\n",
       "  </tbody>\n",
       "</table>\n",
       "</div>"
      ],
      "text/plain": [
       "   rid  qid  cid    start_time      end_time  elapsed_time  passed\n",
       "0    1    1    1  1.582086e+09  1.582086e+09      0.601173       0\n",
       "1    2    6    2  1.582086e+09  1.582086e+09      0.213420       1\n",
       "2    3    2    1  1.582086e+09  1.582086e+09      9.440872       1\n",
       "3    4    4    2  1.582086e+09  1.582086e+09      1.125155       0\n",
       "4    5    2    1  1.582086e+09  1.582086e+09      9.440872       1\n",
       "5    6    2    1  1.582086e+09  1.582086e+09      9.440872       1"
      ]
     },
     "metadata": {},
     "output_type": "display_data"
    }
   ],
   "source": [
    "srs.show_db()"
   ]
  },
  {
   "cell_type": "code",
   "execution_count": 362,
   "metadata": {},
   "outputs": [],
   "source": [
    "session = srs.start_session('2020-02-20')"
   ]
  },
  {
   "cell_type": "code",
   "execution_count": 366,
   "metadata": {},
   "outputs": [
    {
     "name": "stdout",
     "output_type": "stream",
     "text": [
      "capital of france?\n"
     ]
    }
   ],
   "source": [
    "session.start()"
   ]
  },
  {
   "cell_type": "code",
   "execution_count": 367,
   "metadata": {},
   "outputs": [
    {
     "name": "stdout",
     "output_type": "stream",
     "text": [
      "paris\n",
      "\n",
      "Did you get it?\n"
     ]
    }
   ],
   "source": [
    "session.end()"
   ]
  },
  {
   "cell_type": "code",
   "execution_count": 368,
   "metadata": {},
   "outputs": [
    {
     "name": "stdout",
     "output_type": "stream",
     "text": [
      "Done!\n"
     ]
    }
   ],
   "source": [
    "session.no()"
   ]
  },
  {
   "cell_type": "code",
   "execution_count": 373,
   "metadata": {},
   "outputs": [],
   "source": [
    "q = session.questions[0]"
   ]
  },
  {
   "cell_type": "code",
   "execution_count": null,
   "metadata": {},
   "outputs": [],
   "source": [
    "q.__dic"
   ]
  },
  {
   "cell_type": "code",
   "execution_count": 376,
   "metadata": {},
   "outputs": [],
   "source": [
    "srs._add_review(**q.dump())"
   ]
  },
  {
   "cell_type": "code",
   "execution_count": 234,
   "metadata": {},
   "outputs": [],
   "source": [
    "q = \"DROP TRIGGER IF EXISTS update_interval;\"\n",
    "srs.c.execute(q)\n",
    "srs.conn.commit()"
   ]
  },
  {
   "cell_type": "code",
   "execution_count": 235,
   "metadata": {},
   "outputs": [],
   "source": [
    "q = \"\"\"\n",
    "create trigger update_interval\n",
    "    after insert on reviews\n",
    "begin\n",
    "    update concepts \n",
    "    set interval = case\n",
    "        when new.passed = 0 then 0\n",
    "        else 2*interval + 1\n",
    "    END\n",
    "    where cid = new.cid;\n",
    "end;\n",
    "\"\"\"\n",
    "srs.c.execute(q)\n",
    "srs.conn.commit()"
   ]
  },
  {
   "cell_type": "code",
   "execution_count": 85,
   "metadata": {},
   "outputs": [
    {
     "data": {
      "text/plain": [
       "{'qid': 5,\n",
       " 'cid': 2,\n",
       " 'front': 'paris is the capital of what?',\n",
       " 'back': 'france',\n",
       " 'num_reviews': 0,\n",
       " 'start_time': 1582080958.291575,\n",
       " 'end_time': 1582080958.942982,\n",
       " 'passed': True}"
      ]
     },
     "execution_count": 85,
     "metadata": {},
     "output_type": "execute_result"
    }
   ],
   "source": [
    "session.questions[1].__dict__"
   ]
  },
  {
   "cell_type": "code",
   "execution_count": 39,
   "metadata": {},
   "outputs": [],
   "source": [
    "qs = srs.get_due_questions('2020-02-20')"
   ]
  },
  {
   "cell_type": "code",
   "execution_count": 27,
   "metadata": {},
   "outputs": [],
   "source": [
    "srs.add_question(2, 'Paris is in which country?', 'France')"
   ]
  },
  {
   "cell_type": "code",
   "execution_count": 229,
   "metadata": {},
   "outputs": [],
   "source": [
    "conn.commit()"
   ]
  },
  {
   "cell_type": "code",
   "execution_count": null,
   "metadata": {},
   "outputs": [],
   "source": []
  },
  {
   "cell_type": "markdown",
   "metadata": {},
   "source": [
    "- Start review session\n",
    "- Give me the next card\n",
    "- Start review\n",
    "- End review\n",
    "- Mark as pass/fail"
   ]
  },
  {
   "cell_type": "markdown",
   "metadata": {},
   "source": [
    "- Add card to database\n",
    "- Add question 1 to card\n",
    "- Add question 2 to card\n",
    "- ...\n",
    "- Review card\n",
    "- Select fail/pass\n",
    "- The review is logged with:\n",
    "    - The timestamp of the start and end of review\n",
    "    - The time to complete the review\n",
    "    - Whether the review was a pass or fail\n",
    "- The question is updated:\n",
    "    - The last_review timestamp is updated\n",
    "    - The number of reviews are updated\n",
    "- The card is updated\n",
    "    - The last_review timestamp is updated\n",
    "    - The number of reviews are updated\n",
    "    - The interval is updated\n"
   ]
  },
  {
   "cell_type": "code",
   "execution_count": 230,
   "metadata": {},
   "outputs": [
    {
     "name": "stdout",
     "output_type": "stream",
     "text": [
      "CONCEPTS\n"
     ]
    },
    {
     "data": {
      "text/html": [
       "<div>\n",
       "<style scoped>\n",
       "    .dataframe tbody tr th:only-of-type {\n",
       "        vertical-align: middle;\n",
       "    }\n",
       "\n",
       "    .dataframe tbody tr th {\n",
       "        vertical-align: top;\n",
       "    }\n",
       "\n",
       "    .dataframe thead th {\n",
       "        text-align: right;\n",
       "    }\n",
       "</style>\n",
       "<table border=\"1\" class=\"dataframe\">\n",
       "  <thead>\n",
       "    <tr style=\"text-align: right;\">\n",
       "      <th></th>\n",
       "      <th>cid</th>\n",
       "      <th>created_date</th>\n",
       "      <th>interval</th>\n",
       "      <th>last_review</th>\n",
       "      <th>due_date</th>\n",
       "    </tr>\n",
       "  </thead>\n",
       "  <tbody>\n",
       "    <tr>\n",
       "      <th>0</th>\n",
       "      <td>1</td>\n",
       "      <td>2020-02-19 01:50:43</td>\n",
       "      <td>0</td>\n",
       "      <td>NaN</td>\n",
       "      <td>2020-02-19 01:50:43</td>\n",
       "    </tr>\n",
       "    <tr>\n",
       "      <th>1</th>\n",
       "      <td>2</td>\n",
       "      <td>2020-02-19 01:50:43</td>\n",
       "      <td>0</td>\n",
       "      <td>1.582077e+09</td>\n",
       "      <td>2020-02-19 01:50:43</td>\n",
       "    </tr>\n",
       "  </tbody>\n",
       "</table>\n",
       "</div>"
      ],
      "text/plain": [
       "   cid         created_date  interval   last_review             due_date\n",
       "0    1  2020-02-19 01:50:43         0           NaN  2020-02-19 01:50:43\n",
       "1    2  2020-02-19 01:50:43         0  1.582077e+09  2020-02-19 01:50:43"
      ]
     },
     "metadata": {},
     "output_type": "display_data"
    },
    {
     "name": "stdout",
     "output_type": "stream",
     "text": [
      "QUESTIONS\n"
     ]
    },
    {
     "data": {
      "text/html": [
       "<div>\n",
       "<style scoped>\n",
       "    .dataframe tbody tr th:only-of-type {\n",
       "        vertical-align: middle;\n",
       "    }\n",
       "\n",
       "    .dataframe tbody tr th {\n",
       "        vertical-align: top;\n",
       "    }\n",
       "\n",
       "    .dataframe thead th {\n",
       "        text-align: right;\n",
       "    }\n",
       "</style>\n",
       "<table border=\"1\" class=\"dataframe\">\n",
       "  <thead>\n",
       "    <tr style=\"text-align: right;\">\n",
       "      <th></th>\n",
       "      <th>qid</th>\n",
       "      <th>created_date</th>\n",
       "      <th>cid</th>\n",
       "      <th>front</th>\n",
       "      <th>back</th>\n",
       "      <th>num_reviews</th>\n",
       "      <th>last_review</th>\n",
       "    </tr>\n",
       "  </thead>\n",
       "  <tbody>\n",
       "    <tr>\n",
       "      <th>0</th>\n",
       "      <td>1</td>\n",
       "      <td>2020-02-19 01:50:43</td>\n",
       "      <td>1</td>\n",
       "      <td>the front</td>\n",
       "      <td>the back</td>\n",
       "      <td>0</td>\n",
       "      <td>NaN</td>\n",
       "    </tr>\n",
       "    <tr>\n",
       "      <th>1</th>\n",
       "      <td>2</td>\n",
       "      <td>2020-02-19 01:50:43</td>\n",
       "      <td>1</td>\n",
       "      <td>the dearre</td>\n",
       "      <td>the baawfeaweck</td>\n",
       "      <td>1</td>\n",
       "      <td>1.582077e+09</td>\n",
       "    </tr>\n",
       "    <tr>\n",
       "      <th>2</th>\n",
       "      <td>3</td>\n",
       "      <td>2020-02-19 01:50:43</td>\n",
       "      <td>1</td>\n",
       "      <td>the</td>\n",
       "      <td>the b</td>\n",
       "      <td>2</td>\n",
       "      <td>NaN</td>\n",
       "    </tr>\n",
       "    <tr>\n",
       "      <th>3</th>\n",
       "      <td>4</td>\n",
       "      <td>2020-02-19 01:50:43</td>\n",
       "      <td>2</td>\n",
       "      <td>capital of france?</td>\n",
       "      <td>paris</td>\n",
       "      <td>0</td>\n",
       "      <td>NaN</td>\n",
       "    </tr>\n",
       "    <tr>\n",
       "      <th>4</th>\n",
       "      <td>5</td>\n",
       "      <td>2020-02-19 01:50:43</td>\n",
       "      <td>2</td>\n",
       "      <td>paris is the capital of what?</td>\n",
       "      <td>france</td>\n",
       "      <td>0</td>\n",
       "      <td>NaN</td>\n",
       "    </tr>\n",
       "    <tr>\n",
       "      <th>5</th>\n",
       "      <td>6</td>\n",
       "      <td>2020-02-19 01:50:43</td>\n",
       "      <td>2</td>\n",
       "      <td>france's capital is?</td>\n",
       "      <td>paris</td>\n",
       "      <td>2</td>\n",
       "      <td>NaN</td>\n",
       "    </tr>\n",
       "  </tbody>\n",
       "</table>\n",
       "</div>"
      ],
      "text/plain": [
       "   qid         created_date  cid                          front  \\\n",
       "0    1  2020-02-19 01:50:43    1                      the front   \n",
       "1    2  2020-02-19 01:50:43    1                     the dearre   \n",
       "2    3  2020-02-19 01:50:43    1                           the    \n",
       "3    4  2020-02-19 01:50:43    2             capital of france?   \n",
       "4    5  2020-02-19 01:50:43    2  paris is the capital of what?   \n",
       "5    6  2020-02-19 01:50:43    2           france's capital is?   \n",
       "\n",
       "              back  num_reviews   last_review  \n",
       "0         the back            0           NaN  \n",
       "1  the baawfeaweck            1  1.582077e+09  \n",
       "2            the b            2           NaN  \n",
       "3            paris            0           NaN  \n",
       "4           france            0           NaN  \n",
       "5            paris            2           NaN  "
      ]
     },
     "metadata": {},
     "output_type": "display_data"
    },
    {
     "name": "stdout",
     "output_type": "stream",
     "text": [
      "REVIEWS\n"
     ]
    },
    {
     "data": {
      "text/html": [
       "<div>\n",
       "<style scoped>\n",
       "    .dataframe tbody tr th:only-of-type {\n",
       "        vertical-align: middle;\n",
       "    }\n",
       "\n",
       "    .dataframe tbody tr th {\n",
       "        vertical-align: top;\n",
       "    }\n",
       "\n",
       "    .dataframe thead th {\n",
       "        text-align: right;\n",
       "    }\n",
       "</style>\n",
       "<table border=\"1\" class=\"dataframe\">\n",
       "  <thead>\n",
       "    <tr style=\"text-align: right;\">\n",
       "      <th></th>\n",
       "      <th>rid</th>\n",
       "      <th>qid</th>\n",
       "      <th>cid</th>\n",
       "      <th>start_time</th>\n",
       "      <th>end_time</th>\n",
       "      <th>elapsed_time</th>\n",
       "    </tr>\n",
       "  </thead>\n",
       "  <tbody>\n",
       "    <tr>\n",
       "      <th>0</th>\n",
       "      <td>1</td>\n",
       "      <td>2</td>\n",
       "      <td>2</td>\n",
       "      <td>1.582077e+09</td>\n",
       "      <td>1.582077e+09</td>\n",
       "      <td>10.0</td>\n",
       "    </tr>\n",
       "  </tbody>\n",
       "</table>\n",
       "</div>"
      ],
      "text/plain": [
       "   rid  qid  cid    start_time      end_time  elapsed_time\n",
       "0    1    2    2  1.582077e+09  1.582077e+09          10.0"
      ]
     },
     "metadata": {},
     "output_type": "display_data"
    }
   ],
   "source": [
    "show_db()"
   ]
  },
  {
   "cell_type": "code",
   "execution_count": 208,
   "metadata": {},
   "outputs": [
    {
     "data": {
      "text/html": [
       "<div>\n",
       "<style scoped>\n",
       "    .dataframe tbody tr th:only-of-type {\n",
       "        vertical-align: middle;\n",
       "    }\n",
       "\n",
       "    .dataframe tbody tr th {\n",
       "        vertical-align: top;\n",
       "    }\n",
       "\n",
       "    .dataframe thead th {\n",
       "        text-align: right;\n",
       "    }\n",
       "</style>\n",
       "<table border=\"1\" class=\"dataframe\">\n",
       "  <thead>\n",
       "    <tr style=\"text-align: right;\">\n",
       "      <th></th>\n",
       "      <th>qid</th>\n",
       "      <th>created_date</th>\n",
       "      <th>cid</th>\n",
       "      <th>front</th>\n",
       "      <th>back</th>\n",
       "      <th>num_reviews</th>\n",
       "      <th>last_review</th>\n",
       "    </tr>\n",
       "  </thead>\n",
       "  <tbody>\n",
       "  </tbody>\n",
       "</table>\n",
       "</div>"
      ],
      "text/plain": [
       "Empty DataFrame\n",
       "Columns: [qid, created_date, cid, front, back, num_reviews, last_review]\n",
       "Index: []"
      ]
     },
     "execution_count": 208,
     "metadata": {},
     "output_type": "execute_result"
    }
   ],
   "source": [
    "q = \"\"\"\n",
    "select *\n",
    "from questions \n",
    "group by cid\n",
    "having min(num_reviews)\n",
    "order by num_reviews\n",
    "\"\"\"\n",
    "pd.read_sql(q, conn)"
   ]
  },
  {
   "cell_type": "code",
   "execution_count": 255,
   "metadata": {},
   "outputs": [
    {
     "data": {
      "text/html": [
       "<div>\n",
       "<style scoped>\n",
       "    .dataframe tbody tr th:only-of-type {\n",
       "        vertical-align: middle;\n",
       "    }\n",
       "\n",
       "    .dataframe tbody tr th {\n",
       "        vertical-align: top;\n",
       "    }\n",
       "\n",
       "    .dataframe thead th {\n",
       "        text-align: right;\n",
       "    }\n",
       "</style>\n",
       "<table border=\"1\" class=\"dataframe\">\n",
       "  <thead>\n",
       "    <tr style=\"text-align: right;\">\n",
       "      <th></th>\n",
       "      <th>qid</th>\n",
       "      <th>created_date</th>\n",
       "      <th>cid</th>\n",
       "      <th>front</th>\n",
       "      <th>back</th>\n",
       "      <th>num_reviews</th>\n",
       "      <th>last_review</th>\n",
       "    </tr>\n",
       "  </thead>\n",
       "  <tbody>\n",
       "    <tr>\n",
       "      <th>0</th>\n",
       "      <td>1</td>\n",
       "      <td>2020-02-19 01:50:43</td>\n",
       "      <td>1</td>\n",
       "      <td>the front</td>\n",
       "      <td>the back</td>\n",
       "      <td>0</td>\n",
       "      <td>None</td>\n",
       "    </tr>\n",
       "    <tr>\n",
       "      <th>1</th>\n",
       "      <td>6</td>\n",
       "      <td>2020-02-19 01:50:43</td>\n",
       "      <td>2</td>\n",
       "      <td>france's capital is?</td>\n",
       "      <td>paris</td>\n",
       "      <td>2</td>\n",
       "      <td>None</td>\n",
       "    </tr>\n",
       "  </tbody>\n",
       "</table>\n",
       "</div>"
      ],
      "text/plain": [
       "   qid         created_date  cid                 front      back  num_reviews  \\\n",
       "0    1  2020-02-19 01:50:43    1             the front  the back            0   \n",
       "1    6  2020-02-19 01:50:43    2  france's capital is?     paris            2   \n",
       "\n",
       "  last_review  \n",
       "0        None  \n",
       "1        None  "
      ]
     },
     "execution_count": 255,
     "metadata": {},
     "output_type": "execute_result"
    }
   ],
   "source": [
    "q = \"\"\"\n",
    "select *\n",
    "from (\n",
    "    select *\n",
    "    from questions \n",
    ")\n",
    "group by cid\n",
    "having min(random())\n",
    "\"\"\"\n",
    "pd.read_sql(q, conn)"
   ]
  },
  {
   "cell_type": "markdown",
   "metadata": {},
   "source": [
    "### select the cards to review today"
   ]
  },
  {
   "cell_type": "code",
   "execution_count": null,
   "metadata": {},
   "outputs": [],
   "source": [
    "date = '2020-02-20'\n",
    "q = f\"\"\"\n",
    "select q.qid, q.cid, q.front, q.back, q.num_reviews\n",
    "-- 1) select questions whose concept is due\n",
    "from (\n",
    "    select q.*\n",
    "    from questions q, concepts c\n",
    "    where q.cid = c.cid and c.due_date <= '{date}'\n",
    ") q\n",
    "-- 2) select questions with the fewest reviews\n",
    "join (\n",
    "    select cid, min(num_reviews) num_rev\n",
    "    from questions\n",
    "    group by cid\n",
    ") min\n",
    "on \n",
    "    q.num_reviews = min.num_rev \n",
    "    and q.cid = min.cid\n",
    "-- 3) randomly select 1 question from each concept\n",
    "group by q.cid\n",
    "having min(random())\n",
    "\"\"\"\n",
    "# pd.read_sql(q, conn)\n",
    "c.execute(q)\n",
    "records = c.fetchall()\n",
    "cards = [Card(*r) for r in records]"
   ]
  },
  {
   "cell_type": "markdown",
   "metadata": {},
   "source": [
    "### Review the cards"
   ]
  },
  {
   "cell_type": "code",
   "execution_count": 282,
   "metadata": {},
   "outputs": [],
   "source": [
    "from datetime import datetime"
   ]
  },
  {
   "cell_type": "code",
   "execution_count": 285,
   "metadata": {},
   "outputs": [
    {
     "data": {
      "text/plain": [
       "1582077853.654437"
      ]
     },
     "execution_count": 285,
     "metadata": {},
     "output_type": "execute_result"
    }
   ],
   "source": [
    "datetime.now().timestamp()"
   ]
  },
  {
   "cell_type": "code",
   "execution_count": 33,
   "metadata": {},
   "outputs": [],
   "source": [
    "class Question:\n",
    "    def __init__(self, qid, cid, front, back, num_reviews):\n",
    "        self.qid = qid\n",
    "        self.cid = cid\n",
    "        self.front = front\n",
    "        self.back = back\n",
    "        self.num_reviews = num_reviews\n",
    "        \n",
    "    def start(self):\n",
    "        self.start_time = datetime.now().timestamp()\n",
    "        print(self.front)\n",
    "        \n",
    "    def end(self):\n",
    "        self.end_time = datetime.now().timestamp()\n",
    "        print(self.back)\n",
    "        \n",
    "    def yep(self):\n",
    "        self.passed = True\n",
    "        \n",
    "    def nope(self):\n",
    "        self.passed = False"
   ]
  },
  {
   "cell_type": "code",
   "execution_count": 292,
   "metadata": {},
   "outputs": [],
   "source": [
    "questions = [Question(*r) for r in records]"
   ]
  },
  {
   "cell_type": "code",
   "execution_count": 302,
   "metadata": {},
   "outputs": [],
   "source": [
    "qiter = iter(questions)"
   ]
  },
  {
   "cell_type": "code",
   "execution_count": 311,
   "metadata": {},
   "outputs": [
    {
     "ename": "StopIteration",
     "evalue": "",
     "output_type": "error",
     "traceback": [
      "\u001b[0;31m---------------------------------------------------------------------------\u001b[0m",
      "\u001b[0;31mStopIteration\u001b[0m                             Traceback (most recent call last)",
      "\u001b[0;32m<ipython-input-311-4db4630245f0>\u001b[0m in \u001b[0;36m<module>\u001b[0;34m\u001b[0m\n\u001b[0;32m----> 1\u001b[0;31m \u001b[0mq\u001b[0m \u001b[0;34m=\u001b[0m \u001b[0mnext\u001b[0m\u001b[0;34m(\u001b[0m\u001b[0mqiter\u001b[0m\u001b[0;34m)\u001b[0m\u001b[0;34m\u001b[0m\u001b[0;34m\u001b[0m\u001b[0m\n\u001b[0m",
      "\u001b[0;31mStopIteration\u001b[0m: "
     ]
    }
   ],
   "source": [
    "q = next(qiter)"
   ]
  },
  {
   "cell_type": "code",
   "execution_count": 93,
   "metadata": {},
   "outputs": [],
   "source": [
    "!rm srs.db"
   ]
  },
  {
   "cell_type": "code",
   "execution_count": 308,
   "metadata": {},
   "outputs": [
    {
     "name": "stdout",
     "output_type": "stream",
     "text": [
      "paris is the capital of what?\n"
     ]
    }
   ],
   "source": [
    "q.start()"
   ]
  },
  {
   "cell_type": "code",
   "execution_count": 309,
   "metadata": {},
   "outputs": [
    {
     "name": "stdout",
     "output_type": "stream",
     "text": [
      "france\n"
     ]
    }
   ],
   "source": [
    "q.end()"
   ]
  },
  {
   "cell_type": "code",
   "execution_count": 310,
   "metadata": {},
   "outputs": [],
   "source": [
    "q.yep()"
   ]
  },
  {
   "cell_type": "code",
   "execution_count": 301,
   "metadata": {},
   "outputs": [
    {
     "data": {
      "text/plain": [
       "{'qid': 1,\n",
       " 'cid': 1,\n",
       " 'front': 'the front',\n",
       " 'back': 'the back',\n",
       " 'num_reviews': 0,\n",
       " 'start_time': 1582078068.507053,\n",
       " 'end_time': 1582078069.39564,\n",
       " 'passed': True}"
      ]
     },
     "execution_count": 301,
     "metadata": {},
     "output_type": "execute_result"
    }
   ],
   "source": [
    "q.__dict__"
   ]
  },
  {
   "cell_type": "markdown",
   "metadata": {},
   "source": [
    "Add review to log: start, end, elapsed"
   ]
  },
  {
   "cell_type": "code",
   "execution_count": null,
   "metadata": {},
   "outputs": [],
   "source": []
  },
  {
   "cell_type": "markdown",
   "metadata": {},
   "source": [
    "Trigger to increment num_reviews in QUESTIONS"
   ]
  },
  {
   "cell_type": "markdown",
   "metadata": {},
   "source": [
    "Trigger to increment last_reviewed in QUESTIONS and CARDS"
   ]
  },
  {
   "cell_type": "markdown",
   "metadata": {},
   "source": [
    "Update card in the database (should this be triggered by the log addition?)"
   ]
  },
  {
   "cell_type": "code",
   "execution_count": 295,
   "metadata": {},
   "outputs": [
    {
     "data": {
      "text/plain": [
       "<sqlite3.Cursor at 0x12137a8f0>"
      ]
     },
     "execution_count": 295,
     "metadata": {},
     "output_type": "execute_result"
    }
   ],
   "source": [
    "q = f\"\"\"\n",
    "update questions \n",
    "set  \n",
    "    num_reviews={card.num_reviews}\n",
    "where qid={card.qid}\n",
    "\"\"\"\n",
    "c.execute(q)"
   ]
  },
  {
   "cell_type": "code",
   "execution_count": 296,
   "metadata": {},
   "outputs": [
    {
     "name": "stdout",
     "output_type": "stream",
     "text": [
      "CARDS\n"
     ]
    },
    {
     "data": {
      "text/html": [
       "<div>\n",
       "<style scoped>\n",
       "    .dataframe tbody tr th:only-of-type {\n",
       "        vertical-align: middle;\n",
       "    }\n",
       "\n",
       "    .dataframe tbody tr th {\n",
       "        vertical-align: top;\n",
       "    }\n",
       "\n",
       "    .dataframe thead th {\n",
       "        text-align: right;\n",
       "    }\n",
       "</style>\n",
       "<table border=\"1\" class=\"dataframe\">\n",
       "  <thead>\n",
       "    <tr style=\"text-align: right;\">\n",
       "      <th></th>\n",
       "      <th>cid</th>\n",
       "      <th>created_date</th>\n",
       "      <th>interval</th>\n",
       "      <th>due_date</th>\n",
       "    </tr>\n",
       "  </thead>\n",
       "  <tbody>\n",
       "    <tr>\n",
       "      <th>0</th>\n",
       "      <td>1</td>\n",
       "      <td>2020-02-14 03:33:57</td>\n",
       "      <td>0</td>\n",
       "      <td>2020-02-14 03:33:57</td>\n",
       "    </tr>\n",
       "  </tbody>\n",
       "</table>\n",
       "</div>"
      ],
      "text/plain": [
       "   cid         created_date  interval             due_date\n",
       "0    1  2020-02-14 03:33:57         0  2020-02-14 03:33:57"
      ]
     },
     "metadata": {},
     "output_type": "display_data"
    },
    {
     "name": "stdout",
     "output_type": "stream",
     "text": [
      "QUESTIONS\n"
     ]
    },
    {
     "data": {
      "text/html": [
       "<div>\n",
       "<style scoped>\n",
       "    .dataframe tbody tr th:only-of-type {\n",
       "        vertical-align: middle;\n",
       "    }\n",
       "\n",
       "    .dataframe tbody tr th {\n",
       "        vertical-align: top;\n",
       "    }\n",
       "\n",
       "    .dataframe thead th {\n",
       "        text-align: right;\n",
       "    }\n",
       "</style>\n",
       "<table border=\"1\" class=\"dataframe\">\n",
       "  <thead>\n",
       "    <tr style=\"text-align: right;\">\n",
       "      <th></th>\n",
       "      <th>qid</th>\n",
       "      <th>created_date</th>\n",
       "      <th>cid</th>\n",
       "      <th>front</th>\n",
       "      <th>back</th>\n",
       "      <th>num_reviews</th>\n",
       "    </tr>\n",
       "  </thead>\n",
       "  <tbody>\n",
       "    <tr>\n",
       "      <th>0</th>\n",
       "      <td>1</td>\n",
       "      <td>2020-02-14 03:33:57</td>\n",
       "      <td>1</td>\n",
       "      <td>the front</td>\n",
       "      <td>the back</td>\n",
       "      <td>2</td>\n",
       "    </tr>\n",
       "    <tr>\n",
       "      <th>1</th>\n",
       "      <td>2</td>\n",
       "      <td>2020-02-14 03:33:57</td>\n",
       "      <td>1</td>\n",
       "      <td>the dearre</td>\n",
       "      <td>the baawfeaweck</td>\n",
       "      <td>3</td>\n",
       "    </tr>\n",
       "    <tr>\n",
       "      <th>2</th>\n",
       "      <td>3</td>\n",
       "      <td>2020-02-14 03:33:57</td>\n",
       "      <td>1</td>\n",
       "      <td>the</td>\n",
       "      <td>the b</td>\n",
       "      <td>2</td>\n",
       "    </tr>\n",
       "  </tbody>\n",
       "</table>\n",
       "</div>"
      ],
      "text/plain": [
       "   qid         created_date  cid       front             back  num_reviews\n",
       "0    1  2020-02-14 03:33:57    1   the front         the back            2\n",
       "1    2  2020-02-14 03:33:57    1  the dearre  the baawfeaweck            3\n",
       "2    3  2020-02-14 03:33:57    1        the             the b            2"
      ]
     },
     "metadata": {},
     "output_type": "display_data"
    }
   ],
   "source": [
    "show_db()"
   ]
  },
  {
   "cell_type": "code",
   "execution_count": null,
   "metadata": {},
   "outputs": [],
   "source": []
  },
  {
   "cell_type": "markdown",
   "metadata": {},
   "source": [
    "# run gui"
   ]
  },
  {
   "cell_type": "code",
   "execution_count": 121,
   "metadata": {},
   "outputs": [],
   "source": [
    "from tkinter import *\n",
    "\n",
    "\n",
    "\n",
    "def create_main_window():\n",
    "    root = Tk()\n",
    "    root.title('SRS')\n",
    "    root.geometry('400x400')\n",
    "    title = Label(root, text=\"Spaced Repetition is Cool!\")\n",
    "    title.grid(row=0, column=0, columnspan=2)\n",
    "    add_button = Button(root, text='Add', command=add)\n",
    "    add_button.grid(row=3, column=0)\n",
    "\n",
    "def create_add_window():\n",
    "    add_window = Tk()\n",
    "    add_window.title('Add cards')\n",
    "    add_window.geometry('400x400')\n",
    "\n",
    "    # Field Labl\n",
    "    front_label = Label(add_window, text='Front').grid(row=1, column=0, sticky='W')\n",
    "    back_label = Label(add_window, text='Back').grid(row=2, column=0, sticky='W')\n",
    "    # Field Entry\n",
    "    front_box = Entry(add_window)\n",
    "    front_box.grid(row=1, column=1)\n",
    "    back_box = Entry(add_window)\n",
    "    back_box.grid(row=2, column=1)\n",
    "    boxes = [front_box, back_box]\n",
    "    \n",
    "    clear_button = Button(add_window, text='Clear', command=clear_fields)\n",
    "    clear_button.grid(row=3, column=1)\n",
    "\n",
    "def clear_fields():\n",
    "    front_box.delete(0, END)\n",
    "    back_box.delete(0, END)\n",
    "    \n",
    "create_main_window()\n",
    "\n",
    "# def add():\n",
    "#     sql_command = f\"\"\"\n",
    "#         INSERT INTO CARDS (front, back) \n",
    "#             VALUES ('{front_box.get()}','{back_box.get()}')\n",
    "#         \"\"\"\n",
    "#     c.execute(sql_command)\n",
    "#     clear_fields()\n",
    "\n",
    "\n",
    "\n",
    "\n",
    "root.mainloop()"
   ]
  },
  {
   "cell_type": "code",
   "execution_count": 120,
   "metadata": {},
   "outputs": [
    {
     "data": {
      "text/plain": [
       "<sqlite3.Cursor at 0x10ce2ad50>"
      ]
     },
     "execution_count": 120,
     "metadata": {},
     "output_type": "execute_result"
    }
   ],
   "source": [
    "c.execute('select * from cards')"
   ]
  },
  {
   "cell_type": "code",
   "execution_count": 103,
   "metadata": {},
   "outputs": [
    {
     "data": {
      "text/plain": [
       "[(1, 'x', 'y', '2020-02-14 02:28:45', '2020-02-14 02:28:45', 0)]"
      ]
     },
     "execution_count": 103,
     "metadata": {},
     "output_type": "execute_result"
    }
   ],
   "source": [
    "c.fetchall()"
   ]
  },
  {
   "cell_type": "code",
   "execution_count": null,
   "metadata": {},
   "outputs": [],
   "source": [
    "# Save (commit) the changes\n",
    "conn.commit()\n",
    "\n",
    "# We can also close the connection if we are done with it.\n",
    "# Just be sure any changes have been committed or they will be lost.\n",
    "conn.close()"
   ]
  },
  {
   "cell_type": "markdown",
   "metadata": {
    "heading_collapsed": true
   },
   "source": [
    "# Helper Functions"
   ]
  },
  {
   "cell_type": "code",
   "execution_count": 15,
   "metadata": {
    "hidden": true
   },
   "outputs": [],
   "source": [
    "import pandas as pd"
   ]
  },
  {
   "cell_type": "code",
   "execution_count": 6,
   "metadata": {
    "hidden": true
   },
   "outputs": [],
   "source": [
    "def show_db(table_names=None):\n",
    "    if table_names is None: table_names = get_names()\n",
    "    for table_name in table_names:\n",
    "        print(table_name)\n",
    "        q = f\"select * from {table_name}\"\n",
    "        display(pd.read_sql(q, conn))"
   ]
  },
  {
   "cell_type": "code",
   "execution_count": 7,
   "metadata": {
    "hidden": true
   },
   "outputs": [],
   "source": [
    "def drop_tables(table_names=None):\n",
    "    if table_names is None: table_names = get_names()\n",
    "    for table_name in table_names:\n",
    "        q = f\"drop table {table_name}\"\n",
    "        c.execute(q)"
   ]
  },
  {
   "cell_type": "code",
   "execution_count": 8,
   "metadata": {
    "hidden": true
   },
   "outputs": [],
   "source": [
    "def drop_triggers(trigger_names=None):\n",
    "    if trigger_names is None: trigger_names = get_names('trigger')\n",
    "    for trigger_name in trigger_names:\n",
    "        q = f\"drop trigger {trigger_name}\"\n",
    "        c.execute(q)"
   ]
  },
  {
   "cell_type": "code",
   "execution_count": 9,
   "metadata": {
    "hidden": true
   },
   "outputs": [],
   "source": [
    "def drop_all():\n",
    "    drop_triggers()\n",
    "    drop_tables()"
   ]
  },
  {
   "cell_type": "code",
   "execution_count": 10,
   "metadata": {
    "hidden": true
   },
   "outputs": [],
   "source": [
    "def get_names(type='table'):\n",
    "    q = f\"\"\"\n",
    "    select name from sqlite_master \n",
    "    where type = '{type}' and tbl_name != 'sqlite_sequence'\n",
    "    \"\"\"\n",
    "    c.execute(q)\n",
    "    names = [o[0] for o in c.fetchall()]\n",
    "    return names"
   ]
  }
 ],
 "metadata": {
  "kernelspec": {
   "display_name": "Python 3",
   "language": "python",
   "name": "python3"
  },
  "language_info": {
   "codemirror_mode": {
    "name": "ipython",
    "version": 3
   },
   "file_extension": ".py",
   "mimetype": "text/x-python",
   "name": "python",
   "nbconvert_exporter": "python",
   "pygments_lexer": "ipython3",
   "version": "3.7.1"
  }
 },
 "nbformat": 4,
 "nbformat_minor": 4
}
